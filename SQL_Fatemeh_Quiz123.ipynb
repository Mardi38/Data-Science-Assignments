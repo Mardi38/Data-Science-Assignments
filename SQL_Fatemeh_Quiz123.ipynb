{
    "metadata": {
        "kernelspec": {
            "name": "SQL",
            "display_name": "SQL",
            "language": "sql"
        },
        "language_info": {
            "name": "sql",
            "version": ""
        }
    },
    "nbformat_minor": 2,
    "nbformat": 4,
    "cells": [
        {
            "cell_type": "code",
            "source": [
                "--Q3.Q4\r\n",
                "--Write a query that returns a list of cities along with the state or province and country.\r\n",
                "--See if you can figure out the three tables to use and how they are joined together.\r\n",
                "--Return the CityName, StateProvinceName, and CountryName.\r\n",
                "\r\n",
                "select C.CityName, SPA.StateProvinceName, CN.CountryName\r\n",
                "from Application.StateProvinces_Archive as SPA\r\n",
                "\r\n",
                "join Application.cities as C\r\n",
                "on C.StateProvinceID = SPA.StateProvinceID\r\n",
                "\r\n",
                "join Application.countries as CN \r\n",
                "on CN.countryID = SPA.countryID\r\n",
                "\r\n",
                "\r\n",
                "--SELECT  * FROM INFORMATION_SCHEMA.COLUMNS  where column_NAME like '%state%'"
            ],
            "metadata": {
                "azdata_cell_guid": "5f1eed0c-7032-43a3-be3f-553e35bd0349"
            },
            "outputs": [],
            "execution_count": null
        },
        {
            "cell_type": "code",
            "source": [
                "--Q3.Q3\r\n",
                "--Are there any rows in Warehouse.StockItems that have never been ordered?\r\n",
                "--Write a query joining Warehouse.StockItems to Sales.OrderLines to find out. \r\n",
                "--Include StockItemID and StockItemName in the query.\r\n",
                "\r\n",
                "select WS.StockItemID, WS.StockItemName, SOL.Quantity\r\n",
                "from Warehouse.StockItems as WS \r\n",
                "left join Sales.OrderLines as SOL \r\n",
                "on SOL.StockItemID = WS.StockItemID\r\n",
                "where SOL.orderID is null\r\n",
                "\r\n",
                "--to double check, I compared the distinct order stock IDs of both tables.\r\n",
                "select distinct SOL.StockItemID\r\n",
                "from Sales.OrderLines as SOL\r\n",
                "\r\n",
                "--My answer is zero. \r\n",
                "--All the items in the warehouse have been ordered."
            ],
            "metadata": {
                "azdata_cell_guid": "49df7ad9-3bb0-4454-8ea2-c209e152ef53",
                "tags": []
            },
            "outputs": [],
            "execution_count": null
        },
        {
            "cell_type": "code",
            "source": [
                "--Q3.Q2\r\n",
                "--Take the query from Question 1 and join to the Warehouse.StockItems table on the StockItemID column.\r\n",
                "-- Add the StockItemName to the returned columns.\r\n",
                "\r\n",
                "select SO.OrderID, CustomerID, OrderDate, SOL.StockItemID, SOL.Quantity, SOL.UnitPrice, SOL.Quantity*SOL.UnitPrice as ExpectedPrice, WS.StockItemName\r\n",
                "from Sales.Orders as SO \r\n",
                "inner join Sales.OrderLines as SOL\r\n",
                "on SO.OrderID = SOL.OrderID\r\n",
                "inner join Warehouse.StockItems as WS \r\n",
                "on SOL.StockItemID = WS.StockItemID"
            ],
            "metadata": {
                "azdata_cell_guid": "93b30186-3b7c-4d93-ab3e-9f0b324f7313",
                "tags": []
            },
            "outputs": [],
            "execution_count": null
        },
        {
            "cell_type": "code",
            "source": [
                "--Q3.Q1\r\n",
                "--Write a query that joins the Sales.Orders and Sales.OrderLines tables on the OrderID column. \r\n",
                "--Include OrderID, CustomerID, OrderDate, StockItemID, Quantity, and UnitPrice. \r\n",
                "--Include a column that calculates the extended price for each line item.\r\n",
                "\r\n",
                "use WideWorldImporters\r\n",
                "select SO.OrderID, CustomerID, OrderDate, StockItemID, Quantity, UnitPrice, SOL.Quantity*SOL.UnitPrice as ExpectedPrice\r\n",
                "from Sales.Orders as SO\r\n",
                "inner join Sales.OrderLines as SOL \r\n",
                "on SO.OrderID = SOL.OrderID\r\n",
                "\r\n",
                ""
            ],
            "metadata": {
                "azdata_cell_guid": "3dda5ab9-6598-4c2c-912c-472583547763"
            },
            "outputs": [],
            "execution_count": null
        },
        {
            "cell_type": "code",
            "source": [
                "--Q2.Q4\r\n",
                "--Write a query from the Sales.Orders table. \r\n",
                "--Include the OrderID, CustomerID, OrderDate, and ExpectedDeliveryDate. \r\n",
                "--Include a column that returns the number of days between these two dates.\r\n",
                "\r\n",
                "select OrderID, CustomerID, OrderDate, ExpectedDeliveryDate, day(ExpectedDeliveryDate) - day(OrderDate) as date_diff\r\n",
                "from Sales.Orders"
            ],
            "metadata": {
                "azdata_cell_guid": "721dfbc8-33a2-4d22-8602-8fdc2a762a9e"
            },
            "outputs": [],
            "execution_count": null
        },
        {
            "cell_type": "code",
            "source": [
                "--Q2.Q3\r\n",
                "--Write a query from the Warehouse.StockItems table. \r\n",
                "--Include StockItemID and the first 10 characters of the StockItemName.\r\n",
                "\r\n",
                "select StockItemID, LEFT('StockItemName', 10) as starter_name \r\n",
                "from Warehouse.StockItems\r\n",
                ""
            ],
            "metadata": {
                "azdata_cell_guid": "baa84e3c-0403-4d99-b193-9f6c3745342e"
            },
            "outputs": [],
            "execution_count": null
        },
        {
            "cell_type": "code",
            "source": [
                "--Q2.Q2\r\n",
                "--Write a query from the Warehouse.StockItems table. Include StockItemID, SupplierID, and ColorID. \r\n",
                "--Include a column that adds up these three. \r\n",
                "--Make sure that no NULLs end up in the calculated values.\r\n",
                "\r\n",
                "select StockItemID, SupplierID, ColorID, (StockItemID + SupplierID + coalesce (ColorID, 0)) as result\r\n",
                "from Warehouse.StockItems"
            ],
            "metadata": {
                "azdata_cell_guid": "c4db3f9a-0375-4a67-b2cc-ef6b3b644ae1"
            },
            "outputs": [],
            "execution_count": null
        },
        {
            "cell_type": "code",
            "source": [
                "--Q2.Q1\r\n",
                "--returns the StockItemID and StockItemName from the Warehouse.StockItems table. \r\n",
                "--Create a third column that combines these two columns with a dash.\r\n",
                "--Hint: you will need to use a function to avoid a conversion error.\r\n",
                "\r\n",
                "select StockItemID, StockItemName, concat(StockItemID, '-', StockItemName)\r\n",
                "from Warehouse.StockItems\r\n",
                ""
            ],
            "metadata": {
                "azdata_cell_guid": "f461c26c-7c5e-4f16-908c-185c528d8375",
                "tags": []
            },
            "outputs": [],
            "execution_count": null
        },
        {
            "cell_type": "code",
            "source": [
                "--Q1.Q11\r\n",
                "--missing both color and brand\r\n",
                "SELECT StockItemID, StockItemName, ColorID, Brand\r\n",
                "from Warehouse.StockItems \r\n",
                "where colorID is null\r\n",
                "and brand is null"
            ],
            "metadata": {
                "azdata_cell_guid": "f5e8dff5-bef5-407e-9006-d0d3eb8a2d26"
            },
            "outputs": [],
            "execution_count": null
        },
        {
            "cell_type": "code",
            "source": [
                "--Q1.Q10\r\n",
                "--Return StockItemID, StockItemName, ColorID, and Brand.\r\n",
                "--list of the products (Warehouse.StockItems) that start with USB and have a ColorID filled in\r\n",
                "\r\n",
                "SELECT StockItemID, StockItemName, ColorID, Brand\r\n",
                "from Warehouse.StockItems \r\n",
                "where StockItemName like 'USB %' \r\n",
                "and colorID is not null"
            ],
            "metadata": {
                "azdata_cell_guid": "a8f36788-238c-45cc-9f9a-045ae7a1ce37"
            },
            "outputs": [],
            "execution_count": null
        },
        {
            "cell_type": "code",
            "source": [
                "--Q1.Q9\r\n",
                "--CustomerID, CustomerName, and DeliveryCityID from the Sales.Customers\r\n",
                "--do not contain Tailspin Toys in the customer name\r\n",
                "\r\n",
                "Select *\r\n",
                "from Sales.Customers"
            ],
            "metadata": {
                "azdata_cell_guid": "6812612b-8646-4cd4-b83a-7cf63b57eed7"
            },
            "outputs": [],
            "execution_count": null
        },
        {
            "cell_type": "code",
            "source": [
                "--Q1.Q8\r\n",
                "--order date during 2014 are returned for those customers.\r\n",
                "Select OrderID, CustomerID, OrderDate, year(orderdate)\r\n",
                "from Sales.Orders\r\n",
                "\r\n",
                "where (orderdate >= '2014-01-01' and orderdate <= '2014-12-31')\r\n",
                "--where year(OrderDate) = 2014\r\n",
                "and (customerID = 832 or customerID = 77 or customerID = 191)\r\n",
                "\r\n",
                "--I needed () because I used or for the customers."
            ],
            "metadata": {
                "azdata_cell_guid": "e5ad86e5-3455-43ae-8872-4cbd24a4237d"
            },
            "outputs": [],
            "execution_count": null
        },
        {
            "cell_type": "code",
            "source": [
                "--Q1.Q7\r\n",
                "--Write a query that returns the OrderID, CustomerID, and OrderDate from Sales.Orders. \r\n",
                "--Restrict the rows so that only orders from Customers 832, 77, or 191 are returned.\r\n",
                "\r\n",
                "Select OrderID, CustomerID, OrderDate\r\n",
                "from Sales.Orders\r\n",
                "where customerID = 832 or customerID = 77 or customerID = 191\r\n",
                "order by customerid"
            ],
            "metadata": {
                "azdata_cell_guid": "db76919a-30fb-47de-a0d3-599296a55bd4"
            },
            "outputs": [],
            "execution_count": null
        },
        {
            "cell_type": "code",
            "source": [
                "--Q1.Q6\r\n",
                "--rows from customers with an ID of 100 or less show up in the results.\r\n",
                "Select OrderID, CustomerID, OrderDate\r\n",
                "from Sales.Orders\r\n",
                "where customerID <= 100"
            ],
            "metadata": {
                "azdata_cell_guid": "2c7159b0-2915-4a51-8384-9b0c123e4841"
            },
            "outputs": [],
            "execution_count": null
        },
        {
            "cell_type": "code",
            "source": [
                "--Q1.Q5\r\n",
                "select distinct CustomerID \r\n",
                "from Sales.Orders"
            ],
            "metadata": {
                "azdata_cell_guid": "bce212c5-b53e-4eda-9d0c-67a7705597dd"
            },
            "outputs": [],
            "execution_count": null
        },
        {
            "cell_type": "code",
            "source": [
                "--Q1.Q3\r\n",
                "Select (10) OrderID, CustomerID, OrderDate\r\n",
                "from Sales.Orders\r\n",
                "order by OrderDate desc \r\n",
                ""
            ],
            "metadata": {
                "azdata_cell_guid": "7eebf906-ed94-42f8-8e02-addd321b6653"
            },
            "outputs": [],
            "execution_count": null
        },
        {
            "cell_type": "code",
            "source": [
                "--Q1.Q2\r\n",
                "select InvoiceID, CustomerID, OrderID, InvoiceDate, DeliveryInstructions \r\n",
                "from Sales.Invoices\r\n",
                "order by CustomerID"
            ],
            "metadata": {
                "azdata_cell_guid": "97dbfe94-15d0-422c-a437-dc667ac36d9c"
            },
            "outputs": [],
            "execution_count": null
        },
        {
            "cell_type": "code",
            "source": [
                "--Q1.Q1\r\n",
                "use WideWorldImporters\r\n",
                "GO\r\n",
                "select *\r\n",
                "from Application.People"
            ],
            "metadata": {
                "azdata_cell_guid": "5e9c93cb-2715-4805-8339-f298337aa5f7"
            },
            "outputs": [],
            "execution_count": null
        }
    ]
}