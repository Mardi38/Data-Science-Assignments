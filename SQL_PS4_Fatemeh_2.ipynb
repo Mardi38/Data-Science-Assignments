{
    "metadata": {
        "kernelspec": {
            "name": "SQL",
            "display_name": "SQL",
            "language": "sql"
        },
        "language_info": {
            "name": "sql",
            "version": ""
        }
    },
    "nbformat_minor": 2,
    "nbformat": 4,
    "cells": [
        {
            "cell_type": "code",
            "source": [
                "--1.1\n",
                "/* 1.1 Write a query that returns the JobTitle, Birtdate, first and last names. Join the\n",
                "HumanResources.Employee table to the Person.Person table. In this case, you can join on the\n",
                "BusinessEntityID column from both tables. \n",
                "use AdventureWorks2019 */\n",
                "\n",
                "select JobTitle, birthdate, firstname, lastname\n",
                "FROM Person.Person as PP\n",
                "join HumanResources.Employee as HRE\n",
                "on PP.BusinessEntityID = HRE.BusinessEntityID"
            ],
            "metadata": {
                "tags": [],
                "azdata_cell_guid": "3f1c57d8-ee4a-4777-abd2-13ef2459349a"
            },
            "outputs": [],
            "execution_count": null
        },
        {
            "cell_type": "code",
            "source": [
                "--When I first did 1.1, the system told me that there is no 'birthdate'. \r\n",
                "--So I had to find the name of the column. This is how I did it:\r\n",
                "\r\n",
                "SELECT  *\r\n",
                "FROM INFORMATION_SCHEMA.COLUMNS\r\n",
                "where column_NAME like '%birth%'"
            ],
            "metadata": {
                "azdata_cell_guid": "bb0fbbfd-2fc5-4c71-83ef-470cc9194cc8"
            },
            "outputs": [],
            "execution_count": null
        },
        {
            "cell_type": "code",
            "source": [
                "--1.2\r\n",
                "/* Customers can be joined to the Person table by the PersonID from the Sales.Customer table to the\r\n",
                "BuisinessEntityID from the Person.Person table. Join the tables and return the CustomerID,\r\n",
                "TerritoryID, first, last and middle names. */\r\n",
                "select CustomerID, TerritoryID, firstname, lastname, middlename\r\n",
                "FROM Person.Person as PP \r\n",
                "join Sales.Customer as SC\r\n",
                "on PP.BusinessEntityID = SC.PersonID"
            ],
            "metadata": {
                "azdata_cell_guid": "990e66db-5861-4a56-a377-e6b5990fb0b1",
                "tags": []
            },
            "outputs": [],
            "execution_count": null
        },
        {
            "cell_type": "code",
            "source": [
                "--1.3\r\n",
                "/* Join the Sales.SalesOrderDetail table to the Production.Product table on ProductID. Return a list\r\n",
                "containing the SalesOrderID, ProductID, OrderQty, and product name.  */\r\n",
                "SELECT SalesOrderID, PPD.ProductID, OrderQty\r\n",
                "From Sales.SalesOrderDetail as SOD\r\n",
                "Join Production.Product as PPD\r\n",
                "On SOD.ProductID = PPD.ProductID\r\n",
                "\r\n",
                "--invalid name Productname --> can't find it\r\n",
                "--SELECT  * FROM INFORMATION_SCHEMA.COLUMNS where column_NAME like '%product%'"
            ],
            "metadata": {
                "azdata_cell_guid": "8106bdd1-3178-46ac-a886-fd192f3aa9ca",
                "tags": []
            },
            "outputs": [],
            "execution_count": null
        },
        {
            "cell_type": "code",
            "source": [
                "--1.4 \r\n",
                "/* Join the HumanResources.JobCandidate table to the Person.Person table by BusinessEntityID.\r\n",
                "Return the first, middle and last names along with the JobCandidateID column. */\r\n",
                "select firstname, middlename, lastname, JobCandidateID\r\n",
                "from HumanResources.JobCandidate as JC\r\n",
                "join Person.Person as PP\r\n",
                "on JC.BusinessEntityID = PP.BusinessEntityID"
            ],
            "metadata": {
                "azdata_cell_guid": "1cead596-2b7c-449b-bb70-20f63520289e"
            },
            "outputs": [],
            "execution_count": null
        },
        {
            "cell_type": "code",
            "source": [
                "--2.1 \r\n",
                "/* Change the query found in question 1.3 so that it includes the order date. HINT: You will have to join\r\n",
                "to one more table.*/\r\n",
                "SELECT SOD.SalesOrderID, PPD.ProductID, OrderQty, SOH.orderdate\r\n",
                "From Sales.SalesOrderDetail as SOD\r\n",
                "Join Production.Product as PPD\r\n",
                "On SOD.ProductID = PPD.ProductID\r\n",
                "\r\n",
                "--found orderdate in Sales.SalesOrderHeader and in Purchasing.PurchaseOrderHeader.\r\n",
                "-- did this to find something to join the tables on: select * from Sales.SalesOrderHeader    select * from Sales.SalesOrderHeader\r\n",
                "join Sales.SalesOrderHeader as SOH\r\n",
                "on SOD.SalesOrderID  = SOH.SalesOrderID "
            ],
            "metadata": {
                "azdata_cell_guid": "96e25008-8b80-47b9-99e1-c73840c82529",
                "tags": []
            },
            "outputs": [],
            "execution_count": null
        },
        {
            "cell_type": "code",
            "source": [
                "--2.2 \r\n",
                "/* Write a query that produces a list of the customer names and their SalesOrderID numbers. You will\r\n",
                "have to join three tables: Person.Person, Sales.Customer, and Sales.SalesOrderHeader. */\r\n",
                "\r\n",
                "--In tables 1&2: Business Entity ID = Person ID\r\n",
                "--In tables 2&3: Customer ID same\r\n",
                "--Linked names to sales order ID\r\n",
                "\r\n",
                "select distinct PP.firstname, PP.lastname, PP.BusinessEntityID, SC.PersonID, SC.CustomerID, SOH.CustomerID, SOH.SalesOrderID\r\n",
                "from sales.customer as SC\r\n",
                "join  Person.Person as PP    \r\n",
                "on PP.BusinessEntityID = SC.PersonID\r\n",
                "\r\n",
                "join Sales.SalesOrderHeader as SOH \r\n",
                "on SC.CustomerID = SOH.CustomerID\r\n",
                ""
            ],
            "metadata": {
                "azdata_cell_guid": "d1b56c7d-da1a-460a-82ab-c8c8630d1768"
            },
            "outputs": [],
            "execution_count": null
        },
        {
            "cell_type": "code",
            "source": [
                "--2.3 \r\n",
                "/* Write a query that returns the list of employees and their current department. To do this, you will\r\n",
                "have to join the HumanResources.Employee table to the HumanResources.EmployeeDepartmentHistory\r\n",
                "table and the HumanResources.Department table. You must also return rows where the EndDate from\r\n",
                "the history table is NULL to get the latest data. Include BusinessEntityID, job title and department name\r\n",
                "in the results. */\r\n",
                "\r\n",
                "/*select *  from HumanResources.Employee  --> BusinessEntityID, JobTitle, \r\n",
                "select * from HumanResources.EmployeeDepartmentHistory --> BusinessEntityID, DepartmentID \r\n",
                "select * from HumanResources.Department --> DepartmnentID, name*/\r\n",
                "\r\n",
                "SELECT Hist.BusinessEntityID, Emp.JobTitle, Dep.name, Hist.EndDate\r\n",
                "from HumanResources.EmployeeDepartmentHistory as Hist\r\n",
                "left join HumanResources.Employee as Emp\r\n",
                "on Hist.BusinessEntityID = Emp.BusinessEntityID\r\n",
                "\r\n",
                "left join HumanResources.Department as Dep\r\n",
                "on Hist.DepartmentID = Dep.DepartmentID\r\n",
                "\r\n",
                "where Hist.EndDate is null\r\n",
                "\r\n",
                "--where comes after all the joins.\r\n",
                "--6people evidently left (rows: 296 to 290) based on the fact that they had an \"end date\"."
            ],
            "metadata": {
                "azdata_cell_guid": "b83f89ef-5003-4797-83a3-6d23b1122d1a",
                "tags": []
            },
            "outputs": [],
            "execution_count": null
        },
        {
            "cell_type": "code",
            "source": [
                "SELECT Hist.BusinessEntityID, Emp.JobTitle, Dep.name\r\n",
                "from HumanResources.EmployeeDepartmentHistory as Hist\r\n",
                "join HumanResources.Employee as Emp\r\n",
                "on Hist.BusinessEntityID = Emp.BusinessEntityID\r\n",
                "\r\n",
                "JOIN HumanResources.Department as Dep\r\n",
                "on Hist.DepartmentID = Dep.DepartmentID\r\n",
                "--296 rows"
            ],
            "metadata": {
                "azdata_cell_guid": "01a2b91d-bd33-462b-ae52-0b3f1373dad6"
            },
            "outputs": [],
            "execution_count": null
        },
        {
            "cell_type": "code",
            "source": [
                "--3.1 \r\n",
                "/* Return a list of the ProductID and name along with the SalesOrderID. Include all products even if\r\n",
                "they have not been ordered. */\r\n",
                "\r\n",
                "--To line up tables, I know SOH has sales order ID and PPD has Product ID and Name. \r\n",
                "--What I need is a middle table to link the two (something that has Product ID and SalesOrderID).\r\n",
                "--Now that I found it, I realize I don't need SOD for anything :)\r\n",
                "--select * from INFORMATION_SCHEMA.COLUMNS  where COLUMN_NAME like '%productID%'\r\n",
                "--This led me to Sales.SalesOrderDetail\r\n",
                "\r\n",
                "SELECT PPD.ProductID, PPD.name, SOD.SalesOrderID\r\n",
                "from Production.Product as PPD\r\n",
                "Left JOIN Sales.SalesOrderDetail as SOD\r\n",
                "ON PPD.ProductID = SOD.ProductID\r\n",
                "-- --> 121555 rows \r\n",
                "--how to have only the products as one per row, regardless of how many orders?"
            ],
            "metadata": {
                "azdata_cell_guid": "3b1b81a2-aaec-41a2-93de-b337db362f82"
            },
            "outputs": [],
            "execution_count": null
        },
        {
            "cell_type": "code",
            "source": [
                "--3.2 \r\n",
                "/*Write a query that returns a list of the names in the People.People table. If the individual also\r\n",
                "happens to be a customer, return the CustomerID. Join the PersonID to the BusinessEntityID. */\r\n",
                "\r\n",
                "select PP.firstname, PP.middlename, PP.lastname, PP.BusinessEntityID, SC.PersonID, SC.customerID\r\n",
                "from Person.Person as PP\r\n",
                "left join Sales.Customer as SC \r\n",
                "ON PP.BusinessEntityID = SC.PersonID\r\n",
                "\r\n",
                "--that was easy. Used same system as 3.1.\r\n",
                "--Used PP as base because 19972 > 19820."
            ],
            "metadata": {
                "azdata_cell_guid": "396aa004-0f64-4fc5-b403-8768758c8dfb",
                "tags": []
            },
            "outputs": [],
            "execution_count": null
        },
        {
            "cell_type": "code",
            "source": [
                "select *\r\n",
                "from Sales.SalesOrderHeader\r\n",
                ""
            ],
            "metadata": {
                "azdata_cell_guid": "9699eddb-ad84-48c9-905d-459f221b13bf"
            },
            "outputs": [],
            "execution_count": null
        },
        {
            "cell_type": "code",
            "source": [
                "--3.3\r\n",
                "/* Modify the query from 3.2 to include the list of orders placed as well. Include SalesOrderID and\r\n",
                "OrderDate. Make sure that none of the names drop out of the results. */\r\n",
                "--Had to move SC to from (as middle table)\r\n",
                "\r\n",
                "Select PP.firstname, PP.middlename, PP.lastname, PP.BusinessEntityID, SC.PersonID, SC.customerID, SOH.CustomerID, SOH.SalesOrderID, SOH.OrderDate\r\n",
                "from Sales.Customer as SC \r\n",
                "left join Person.Person as PP\r\n",
                "ON PP.BusinessEntityID = SC.PersonID\r\n",
                "\r\n",
                "left join Sales.SalesOrderHeader as SOH\r\n",
                "on SOH.CustomerID = SC.CustomerID\r\n",
                "\r\n",
                "--How do I make sure that none of the names drop out of the results?\r\n",
                "--32166 rows"
            ],
            "metadata": {
                "azdata_cell_guid": "9be7c671-007d-41c1-87e1-61dbe2e76993",
                "tags": []
            },
            "outputs": [],
            "execution_count": null
        }
    ]
}